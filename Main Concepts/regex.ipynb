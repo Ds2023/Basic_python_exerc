{
 "cells": [
  {
   "cell_type": "markdown",
   "metadata": {},
   "source": [
    "Problem 1: Check if a string contains only a certain set of characters (a-z, A-Z, 0-9)"
   ]
  },
  {
   "cell_type": "code",
   "execution_count": null,
   "metadata": {},
   "outputs": [],
   "source": [
    "import re\n",
    "\n",
    "def contains_only_allowed_chars(s):\n",
    "    return bool(re.match('^[a-zA-Z0-9]+$', s))\n",
    "\n",
    "# Example usage:\n",
    "s = input(\"Enter a string: \")\n",
    "if contains_only_allowed_chars(s):\n",
    "    print(\"The string contains only a-z, A-Z, and 0-9.\")\n",
    "else:\n",
    "    print(\"The string contains other characters.\")\n"
   ]
  },
  {
   "cell_type": "markdown",
   "metadata": {},
   "source": [
    "Problem 2: Match a string that has an ‘a’ followed by anything, ending in ‘b’"
   ]
  },
  {
   "cell_type": "code",
   "execution_count": null,
   "metadata": {},
   "outputs": [],
   "source": [
    "def match_a_followed_by_anything_ending_in_b(s):\n",
    "    return bool(re.match(r'a.*b$', s))\n",
    "\n",
    "# Example usage:\n",
    "s = input(\"Enter a string: \")\n",
    "if match_a_followed_by_anything_ending_in_b(s):\n",
    "    print(\"The string matches the pattern.\")\n",
    "else:\n",
    "    print(\"The string does not match the pattern.\")\n"
   ]
  },
  {
   "cell_type": "markdown",
   "metadata": {},
   "source": [
    "Problem 3: Validate user input with regex (password criteria and date format)\n",
    "Check if a password meets certain criteria (e.g., minimum length, containing uppercase and lowercase letters)"
   ]
  },
  {
   "cell_type": "code",
   "execution_count": null,
   "metadata": {},
   "outputs": [],
   "source": [
    "def validate_password(password):\n",
    "    return bool(re.match(r'^(?=.*[a-z])(?=.*[A-Z]).{8,}$', password))\n",
    "\n",
    "# Example usage:\n",
    "password = input(\"Enter a password: \")\n",
    "if validate_password(password):\n",
    "    print(\"The password meets the criteria.\")\n",
    "else:\n",
    "    print(\"The password does not meet the criteria.\")\n"
   ]
  },
  {
   "cell_type": "code",
   "execution_count": null,
   "metadata": {},
   "outputs": [],
   "source": [
    "def validate_date_format(date):\n",
    "    return bool(re.match(r'^\\d{2}/\\d{2}/\\d{4}$', date))\n",
    "\n",
    "# Example usage:\n",
    "date = input(\"Enter a date (DD/MM/YYYY): \")\n",
    "if validate_date_format(date):\n",
    "    print(\"The date format is valid.\")\n",
    "else:\n",
    "    print(\"The date format is invalid.\")\n"
   ]
  },
  {
   "cell_type": "markdown",
   "metadata": {},
   "source": [
    "Problem 4: Extract specific information from a string using regex (email addresses and phone numbers)"
   ]
  },
  {
   "cell_type": "code",
   "execution_count": null,
   "metadata": {},
   "outputs": [],
   "source": [
    "# Extract email addresses\n",
    "\n",
    "def extract_emails(text):\n",
    "    return re.findall(r'\\b[A-Za-z0-9._%+-]+@[A-Za-z0-9.-]+\\.[A-Z|a-z]{2,}\\b', text)\n",
    "\n",
    "# Example usage:\n",
    "text = input(\"Enter a text containing email addresses: \")\n",
    "emails = extract_emails(text)\n",
    "print(f\"Extracted email addresses: {emails}\")\n"
   ]
  },
  {
   "cell_type": "code",
   "execution_count": null,
   "metadata": {},
   "outputs": [],
   "source": [
    "# Extract phone numbers (format: XXX-XXX-XXXX)\n",
    "\n",
    "def extract_phone_numbers(text):\n",
    "    return re.findall(r'\\b\\d{3}-\\d{3}-\\d{4}\\b', text)\n",
    "\n",
    "# Example usage:\n",
    "text = input(\"Enter a text containing phone numbers: \")\n",
    "phone_numbers = extract_phone_numbers(text)\n",
    "print(f\"Extracted phone numbers: {phone_numbers}\")\n"
   ]
  },
  {
   "cell_type": "markdown",
   "metadata": {},
   "source": [
    "Problem 5: Search for and replace text in a string using regex"
   ]
  },
  {
   "cell_type": "code",
   "execution_count": null,
   "metadata": {},
   "outputs": [],
   "source": [
    "def replace_mr_with_ms(text):\n",
    "    return re.sub(r'\\bMr\\.\\b', 'Ms.', text)\n",
    "\n",
    "# Example usage:\n",
    "text = input(\"Enter a text: \")\n",
    "updated_text = replace_mr_with_ms(text)\n",
    "print(f\"Updated text: {updated_text}\")\n"
   ]
  }
 ],
 "metadata": {
  "language_info": {
   "name": "python"
  }
 },
 "nbformat": 4,
 "nbformat_minor": 2
}
