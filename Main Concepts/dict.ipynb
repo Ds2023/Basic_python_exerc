{
 "cells": [
  {
   "cell_type": "markdown",
   "metadata": {},
   "source": [
    "Problem 1: Program to sum up all the items in a dictionary"
   ]
  },
  {
   "cell_type": "code",
   "execution_count": null,
   "metadata": {},
   "outputs": [],
   "source": [
    "def sum_dictionary_items(d):\n",
    "    return sum(d.values())\n",
    "\n",
    "# Example usage:\n",
    "d = {'a': 10, 'b': 20, 'c': 30}\n",
    "print(f\"Sum of all items in the dictionary: {sum_dictionary_items(d)}\")\n"
   ]
  },
  {
   "cell_type": "markdown",
   "metadata": {},
   "source": [
    "Problem 2: Create a dictionary to store product information and manage inventory"
   ]
  },
  {
   "cell_type": "code",
   "execution_count": null,
   "metadata": {},
   "outputs": [],
   "source": [
    "def add_product(inventory, name, price, quantity):\n",
    "    inventory[name] = {'price': price, 'quantity': quantity}\n",
    "\n",
    "def update_product(inventory, name, price=None, quantity=None):\n",
    "    if name in inventory:\n",
    "        if price is not None:\n",
    "            inventory[name]['price'] = price\n",
    "        if quantity is not None:\n",
    "            inventory[name]['quantity'] = quantity\n",
    "    else:\n",
    "        print(f\"Product {name} not found in inventory.\")\n",
    "\n",
    "def remove_product(inventory, name):\n",
    "    if name in inventory:\n",
    "        del inventory[name]\n",
    "    else:\n",
    "        print(f\"Product {name} not found in inventory.\")\n",
    "\n",
    "def print_inventory(inventory):\n",
    "    for name, info in inventory.items():\n",
    "        print(f\"Product: {name}, Price: {info['price']}, Quantity: {info['quantity']}\")\n",
    "\n",
    "# Example usage:\n",
    "inventory = {}\n",
    "add_product(inventory, 'apple', 0.5, 100)\n",
    "add_product(inventory, 'banana', 0.2, 150)\n",
    "update_product(inventory, 'apple', quantity=120)\n",
    "remove_product(inventory, 'banana')\n",
    "print_inventory(inventory)\n"
   ]
  },
  {
   "cell_type": "markdown",
   "metadata": {},
   "source": [
    "Problem 3: Create a dictionary for company departments and employee information"
   ]
  },
  {
   "cell_type": "code",
   "execution_count": 1,
   "metadata": {},
   "outputs": [
    {
     "name": "stdout",
     "output_type": "stream",
     "text": [
      "Department: HR\n",
      "  Employee: Alice, Role: Manager\n",
      "  Employee: Bob, Role: Recruiter\n",
      "Department: IT\n",
      "  Employee: Charlie, Role: Developer\n",
      "  Employee: Diana, Role: System Administrator\n",
      "Department: Sales\n",
      "  Employee: Eve, Role: Sales Manager\n",
      "  Employee: Frank, Role: Salesperson\n"
     ]
    }
   ],
   "source": [
    "company = {\n",
    "    'HR': {\n",
    "        'Alice': {'role': 'Manager'},\n",
    "        'Bob': {'role': 'Recruiter'}\n",
    "    },\n",
    "    'IT': {\n",
    "        'Charlie': {'role': 'Developer'},\n",
    "        'Diana': {'role': 'System Administrator'}\n",
    "    },\n",
    "    'Sales': {\n",
    "        'Eve': {'role': 'Sales Manager'},\n",
    "        'Frank': {'role': 'Salesperson'}\n",
    "    }\n",
    "}\n",
    "\n",
    "# Example usage:\n",
    "for department, employees in company.items():\n",
    "    print(f\"Department: {department}\")\n",
    "    for name, info in employees.items():\n",
    "        print(f\"  Employee: {name}, Role: {info['role']}\")\n"
   ]
  },
  {
   "cell_type": "markdown",
   "metadata": {},
   "source": [
    "Problem 4: Function to create a new set containing identical items from two given sets"
   ]
  },
  {
   "cell_type": "code",
   "execution_count": 2,
   "metadata": {},
   "outputs": [
    {
     "name": "stdout",
     "output_type": "stream",
     "text": [
      "Identical items in both sets: {3, 4}\n"
     ]
    }
   ],
   "source": [
    "def identical_items(set1, set2):\n",
    "    return set1 & set2\n",
    "\n",
    "# Example usage:\n",
    "set1 = {1, 2, 3, 4}\n",
    "set2 = {3, 4, 5, 6}\n",
    "print(f\"Identical items in both sets: {identical_items(set1, set2)}\")\n"
   ]
  },
  {
   "cell_type": "markdown",
   "metadata": {},
   "source": []
  }
 ],
 "metadata": {
  "kernelspec": {
   "display_name": "Python 3",
   "language": "python",
   "name": "python3"
  },
  "language_info": {
   "codemirror_mode": {
    "name": "ipython",
    "version": 3
   },
   "file_extension": ".py",
   "mimetype": "text/x-python",
   "name": "python",
   "nbconvert_exporter": "python",
   "pygments_lexer": "ipython3",
   "version": "3.12.0"
  }
 },
 "nbformat": 4,
 "nbformat_minor": 2
}
