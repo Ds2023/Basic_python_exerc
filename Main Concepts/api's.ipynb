{
 "cells": [
  {
   "cell_type": "code",
   "execution_count": 2,
   "metadata": {},
   "outputs": [
    {
     "name": "stdout",
     "output_type": "stream",
     "text": [
      "Collecting requests\n",
      "  Obtaining dependency information for requests from https://files.pythonhosted.org/packages/f9/9b/335f9764261e915ed497fcdeb11df5dfd6f7bf257d4a6a2a686d80da4d54/requests-2.32.3-py3-none-any.whl.metadata\n",
      "  Using cached requests-2.32.3-py3-none-any.whl.metadata (4.6 kB)\n",
      "Requirement already satisfied: charset-normalizer<4,>=2 in c:\\users\\user\\pyver\\python312\\lib\\site-packages (from requests) (3.3.2)\n",
      "Requirement already satisfied: idna<4,>=2.5 in c:\\users\\user\\pyver\\python312\\lib\\site-packages (from requests) (3.7)\n",
      "Requirement already satisfied: urllib3<3,>=1.21.1 in c:\\users\\user\\pyver\\python312\\lib\\site-packages (from requests) (2.2.2)\n",
      "Collecting certifi>=2017.4.17 (from requests)\n",
      "  Obtaining dependency information for certifi>=2017.4.17 from https://files.pythonhosted.org/packages/5b/11/1e78951465b4a225519b8c3ad29769c49e0d8d157a070f681d5b6d64737f/certifi-2024.6.2-py3-none-any.whl.metadata\n",
      "  Using cached certifi-2024.6.2-py3-none-any.whl.metadata (2.2 kB)\n",
      "Using cached requests-2.32.3-py3-none-any.whl (64 kB)\n",
      "Using cached certifi-2024.6.2-py3-none-any.whl (164 kB)\n",
      "Installing collected packages: certifi, requests\n",
      "Successfully installed certifi-2024.6.2 requests-2.32.3\n",
      "Note: you may need to restart the kernel to use updated packages.\n"
     ]
    },
    {
     "name": "stderr",
     "output_type": "stream",
     "text": [
      "\n",
      "[notice] A new release of pip is available: 23.2.1 -> 24.0\n",
      "[notice] To update, run: python.exe -m pip install --upgrade pip\n"
     ]
    }
   ],
   "source": [
    "pip install requests"
   ]
  },
  {
   "cell_type": "code",
   "execution_count": 1,
   "metadata": {},
   "outputs": [],
   "source": [
    "import requests\n",
    "import json"
   ]
  },
  {
   "cell_type": "code",
   "execution_count": 2,
   "metadata": {},
   "outputs": [],
   "source": [
    "api_key = '5997bfdb752b4a69ea8303f98afcc2b9'\n",
    "base_url = \"http://api.openweathermap.org/data/2.5/weather\""
   ]
  },
  {
   "cell_type": "code",
   "execution_count": 3,
   "metadata": {},
   "outputs": [],
   "source": [
    "city_name = \"London\""
   ]
  },
  {
   "cell_type": "code",
   "execution_count": 4,
   "metadata": {},
   "outputs": [],
   "source": [
    "# Create the full URL with parameters (city name and API key)\n",
    "url = f\"{base_url}?q={city_name}&appid={api_key}\""
   ]
  },
  {
   "cell_type": "code",
   "execution_count": 5,
   "metadata": {},
   "outputs": [],
   "source": [
    "response = requests.get(url)"
   ]
  },
  {
   "cell_type": "code",
   "execution_count": 6,
   "metadata": {},
   "outputs": [
    {
     "data": {
      "text/plain": [
       "200"
      ]
     },
     "execution_count": 6,
     "metadata": {},
     "output_type": "execute_result"
    }
   ],
   "source": [
    "response.status_code"
   ]
  },
  {
   "cell_type": "code",
   "execution_count": 8,
   "metadata": {},
   "outputs": [
    {
     "data": {
      "text/plain": [
       "{'coord': {'lon': -0.1257, 'lat': 51.5085},\n",
       " 'weather': [{'id': 804,\n",
       "   'main': 'Clouds',\n",
       "   'description': 'overcast clouds',\n",
       "   'icon': '04n'}],\n",
       " 'base': 'stations',\n",
       " 'main': {'temp': 290.09,\n",
       "  'feels_like': 289.69,\n",
       "  'temp_min': 287.62,\n",
       "  'temp_max': 291.49,\n",
       "  'pressure': 1013,\n",
       "  'humidity': 71,\n",
       "  'sea_level': 1013,\n",
       "  'grnd_level': 1008},\n",
       " 'visibility': 10000,\n",
       " 'wind': {'speed': 1.51, 'deg': 246, 'gust': 2.68},\n",
       " 'clouds': {'all': 100},\n",
       " 'dt': 1718658520,\n",
       " 'sys': {'type': 2,\n",
       "  'id': 2040950,\n",
       "  'country': 'GB',\n",
       "  'sunrise': 1718595761,\n",
       "  'sunset': 1718655620},\n",
       " 'timezone': 3600,\n",
       " 'id': 2643743,\n",
       " 'name': 'London',\n",
       " 'cod': 200}"
      ]
     },
     "execution_count": 8,
     "metadata": {},
     "output_type": "execute_result"
    }
   ],
   "source": [
    "data = response.json()\n",
    "data"
   ]
  },
  {
   "cell_type": "code",
   "execution_count": 10,
   "metadata": {},
   "outputs": [
    {
     "data": {
      "text/plain": [
       "{'lon': -0.1257, 'lat': 51.5085}"
      ]
     },
     "execution_count": 10,
     "metadata": {},
     "output_type": "execute_result"
    }
   ],
   "source": [
    "data['coord']"
   ]
  },
  {
   "cell_type": "code",
   "execution_count": 12,
   "metadata": {},
   "outputs": [],
   "source": [
    "api_key = '5997bfdb752b4a69ea8303f98afcc2b9'\n",
    "full_url = f\"https://api.openweathermap.org/data/2.5/weather?lat=44.34&lon=10.99&appid={api_key}\""
   ]
  },
  {
   "cell_type": "code",
   "execution_count": 13,
   "metadata": {},
   "outputs": [],
   "source": [
    "response = requests.get(full_url)"
   ]
  },
  {
   "cell_type": "code",
   "execution_count": 14,
   "metadata": {},
   "outputs": [
    {
     "data": {
      "text/plain": [
       "200"
      ]
     },
     "execution_count": 14,
     "metadata": {},
     "output_type": "execute_result"
    }
   ],
   "source": [
    "response.status_code"
   ]
  },
  {
   "cell_type": "code",
   "execution_count": 15,
   "metadata": {},
   "outputs": [
    {
     "data": {
      "text/plain": [
       "{'coord': {'lon': 10.99, 'lat': 44.34},\n",
       " 'weather': [{'id': 801,\n",
       "   'main': 'Clouds',\n",
       "   'description': 'few clouds',\n",
       "   'icon': '02n'}],\n",
       " 'base': 'stations',\n",
       " 'main': {'temp': 291.03,\n",
       "  'feels_like': 290.49,\n",
       "  'temp_min': 288.85,\n",
       "  'temp_max': 291.86,\n",
       "  'pressure': 1018,\n",
       "  'humidity': 62,\n",
       "  'sea_level': 1018,\n",
       "  'grnd_level': 951},\n",
       " 'visibility': 10000,\n",
       " 'wind': {'speed': 3.33, 'deg': 222, 'gust': 2.42},\n",
       " 'clouds': {'all': 14},\n",
       " 'dt': 1718658637,\n",
       " 'sys': {'type': 2,\n",
       "  'id': 2044440,\n",
       "  'country': 'IT',\n",
       "  'sunrise': 1718595084,\n",
       "  'sunset': 1718650961},\n",
       " 'timezone': 7200,\n",
       " 'id': 3163858,\n",
       " 'name': 'Zocca',\n",
       " 'cod': 200}"
      ]
     },
     "execution_count": 15,
     "metadata": {},
     "output_type": "execute_result"
    }
   ],
   "source": [
    "response.json()"
   ]
  },
  {
   "cell_type": "markdown",
   "metadata": {},
   "source": [
    "Air Pollution Data"
   ]
  },
  {
   "cell_type": "code",
   "execution_count": null,
   "metadata": {},
   "outputs": [],
   "source": [
    "api_key = '5997bfdb752b4a69ea8303f98afcc2b9'\n",
    "full_url = f\"http://api.openweathermap.org/data/2.5/air_pollution?lat=50&lon=50&appid={api_key}\"\n",
    "\n",
    "response = requests.get(full_url)\n",
    "response.json()"
   ]
  },
  {
   "cell_type": "code",
   "execution_count": 16,
   "metadata": {},
   "outputs": [],
   "source": [
    "api_key = '5997bfdb752b4a69ea8303f98afcc2b9'\n",
    "full_url = f\"http://api.openweathermap.org/data/2.5/air_pollution?lat=50&lon=50&appid={api_key}\""
   ]
  },
  {
   "cell_type": "code",
   "execution_count": 17,
   "metadata": {},
   "outputs": [],
   "source": [
    "response = requests.get(full_url)"
   ]
  },
  {
   "cell_type": "code",
   "execution_count": 18,
   "metadata": {},
   "outputs": [
    {
     "data": {
      "text/plain": [
       "200"
      ]
     },
     "execution_count": 18,
     "metadata": {},
     "output_type": "execute_result"
    }
   ],
   "source": [
    "response.status_code"
   ]
  },
  {
   "cell_type": "code",
   "execution_count": 19,
   "metadata": {},
   "outputs": [
    {
     "data": {
      "text/plain": [
       "{'coord': {'lon': 50, 'lat': 50},\n",
       " 'list': [{'main': {'aqi': 1},\n",
       "   'components': {'co': 171.9,\n",
       "    'no': 0,\n",
       "    'no2': 0.21,\n",
       "    'o3': 48.64,\n",
       "    'so2': 0.09,\n",
       "    'pm2_5': 3.22,\n",
       "    'pm10': 6.5,\n",
       "    'nh3': 0.25},\n",
       "   'dt': 1718659617}]}"
      ]
     },
     "execution_count": 19,
     "metadata": {},
     "output_type": "execute_result"
    }
   ],
   "source": [
    "response.json()"
   ]
  },
  {
   "cell_type": "code",
   "execution_count": 20,
   "metadata": {},
   "outputs": [],
   "source": [
    "def jprint(obj):\n",
    "    print(json.dumps(obj, sort_keys=True, indent=4))"
   ]
  },
  {
   "cell_type": "code",
   "execution_count": 21,
   "metadata": {},
   "outputs": [
    {
     "name": "stdout",
     "output_type": "stream",
     "text": [
      "{\n",
      "    \"coord\": {\n",
      "        \"lat\": 50,\n",
      "        \"lon\": 50\n",
      "    },\n",
      "    \"list\": [\n",
      "        {\n",
      "            \"components\": {\n",
      "                \"co\": 171.9,\n",
      "                \"nh3\": 0.25,\n",
      "                \"no\": 0,\n",
      "                \"no2\": 0.21,\n",
      "                \"o3\": 48.64,\n",
      "                \"pm10\": 6.5,\n",
      "                \"pm2_5\": 3.22,\n",
      "                \"so2\": 0.09\n",
      "            },\n",
      "            \"dt\": 1718659617,\n",
      "            \"main\": {\n",
      "                \"aqi\": 1\n",
      "            }\n",
      "        }\n",
      "    ]\n",
      "}\n"
     ]
    }
   ],
   "source": [
    "jprint(response.json())"
   ]
  },
  {
   "cell_type": "markdown",
   "metadata": {},
   "source": []
  },
  {
   "cell_type": "code",
   "execution_count": null,
   "metadata": {},
   "outputs": [],
   "source": [
    "def get_weather(city_name):\n",
    "    # Parameters for the API request\n",
    "    params = {\n",
    "        \"q\": city_name,\n",
    "        \"appid\": api_key,\n",
    "        \"units\": \"metric\"\n",
    "    }\n",
    "    \n",
    "    # Making the API request\n",
    "    response = requests.get(base_url, params=params)\n",
    "    "
   ]
  },
  {
   "cell_type": "code",
   "execution_count": null,
   "metadata": {},
   "outputs": [],
   "source": []
  }
 ],
 "metadata": {
  "kernelspec": {
   "display_name": "Python 3",
   "language": "python",
   "name": "python3"
  },
  "language_info": {
   "codemirror_mode": {
    "name": "ipython",
    "version": 3
   },
   "file_extension": ".py",
   "mimetype": "text/x-python",
   "name": "python",
   "nbconvert_exporter": "python",
   "pygments_lexer": "ipython3",
   "version": "3.12.0"
  }
 },
 "nbformat": 4,
 "nbformat_minor": 2
}
